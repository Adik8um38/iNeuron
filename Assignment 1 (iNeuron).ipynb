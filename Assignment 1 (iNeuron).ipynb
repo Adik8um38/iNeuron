{
 "cells": [
  {
   "cell_type": "raw",
   "metadata": {},
   "source": [
    "1. Write a program which will find all such numbers which are divisible by 7 but are not a multiple of 5,between 2000 and 3200    (both included). The numbers obtained should be printed in a comma-separated sequence on a single  line."
   ]
  },
  {
   "cell_type": "code",
   "execution_count": 1,
   "metadata": {},
   "outputs": [
    {
     "name": "stdout",
     "output_type": "stream",
     "text": [
      "Enter 1st no: 2000\n",
      "Enter 2nd no: 3200\n",
      "2007,2014,2021,2028,2042,2049,2056,2063,2077,2084,2091,2098,2112,2119,2126,2133,2147,2154,2161,2168,2182,2189,2196,2203,2217,2224,2231,2238,2252,2259,2266,2273,2287,2294,2301,2308,2322,2329,2336,2343,2357,2364,2371,2378,2392,2399,2406,2413,2427,2434,2441,2448,2462,2469,2476,2483,2497,2504,2511,2518,2532,2539,2546,2553,2567,2574,2581,2588,2602,2609,2616,2623,2637,2644,2651,2658,2672,2679,2686,2693,2707,2714,2721,2728,2742,2749,2756,2763,2777,2784,2791,2798,2812,2819,2826,2833,2847,2854,2861,2868,2882,2889,2896,2903,2917,2924,2931,2938,2952,2959,2966,2973,2987,2994,3001,3008,3022,3029,3036,3043,3057,3064,3071,3078,3092,3099,3106,3113,3127,3134,3141,3148,3162,3169,3176,3183,3197,"
     ]
    }
   ],
   "source": [
    "a = int(input('Enter 1st no: '))\n",
    "b = int(input('Enter 2nd no: '))\n",
    "lst=list(range(a,b))\n",
    "for i in range(len(lst)):\n",
    "    if i%7==0:\n",
    "        if i%5!=0:\n",
    "            print(lst[i],end=',')"
   ]
  },
  {
   "cell_type": "raw",
   "metadata": {},
   "source": [
    "2. Write a Python program to accept the user's first and last name and then getting them printed in the the reverse order with    a space between first name and last name."
   ]
  },
  {
   "cell_type": "code",
   "execution_count": 13,
   "metadata": {},
   "outputs": [
    {
     "name": "stdout",
     "output_type": "stream",
     "text": [
      "Enter your First Name: Aditya\n",
      "Enter your Last Name: Kumar\n",
      "Kumar Aditya \n"
     ]
    }
   ],
   "source": [
    "First_Name = input('Enter your First Name: ')\n",
    "Last_Name = input('Enter your Last Name: ')\n",
    "c = ('{Last_N} {First_N} '.format(Last_N=Last_Name,First_N=First_Name))\n",
    "print(c)\n",
    "#print(Last_Name + ' ' + First_Name)"
   ]
  },
  {
   "cell_type": "raw",
   "metadata": {},
   "source": [
    "4. Write a Python program to find the volume of a sphere with diameter 12 cm."
   ]
  },
  {
   "cell_type": "code",
   "execution_count": 18,
   "metadata": {},
   "outputs": [
    {
     "name": "stdout",
     "output_type": "stream",
     "text": [
      "7241.142857142856\n"
     ]
    }
   ],
   "source": [
    "r = 12\n",
    "π = 22/7\n",
    "v = 4/3*π*r*r*r\n",
    "print(v)"
   ]
  }
 ],
 "metadata": {
  "kernelspec": {
   "display_name": "Python 3",
   "language": "python",
   "name": "python3"
  },
  "language_info": {
   "codemirror_mode": {
    "name": "ipython",
    "version": 3
   },
   "file_extension": ".py",
   "mimetype": "text/x-python",
   "name": "python",
   "nbconvert_exporter": "python",
   "pygments_lexer": "ipython3",
   "version": "3.8.3"
  }
 },
 "nbformat": 4,
 "nbformat_minor": 4
}
